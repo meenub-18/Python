{
 "cells": [
  {
   "cell_type": "markdown",
   "id": "c5d05990",
   "metadata": {},
   "source": [
    "# Find a given number is Odd or Even"
   ]
  },
  {
   "cell_type": "code",
   "execution_count": null,
   "id": "f93c2d52",
   "metadata": {},
   "outputs": [],
   "source": [
    "#Odd or Even\n",
    "i = int(input(\"Please enter the number:\"))\n",
    "\n",
    "if (i % 2 == 0):\n",
    "    print(\"even\")\n",
    "else:\n",
    "    print(\"odd\")\n"
   ]
  }
 ],
 "metadata": {
  "kernelspec": {
   "display_name": "Python 3 (ipykernel)",
   "language": "python",
   "name": "python3"
  },
  "language_info": {
   "codemirror_mode": {
    "name": "ipython",
    "version": 3
   },
   "file_extension": ".py",
   "mimetype": "text/x-python",
   "name": "python",
   "nbconvert_exporter": "python",
   "pygments_lexer": "ipython3",
   "version": "3.10.12"
  }
 },
 "nbformat": 4,
 "nbformat_minor": 5
}
