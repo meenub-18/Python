{
 "cells": [
  {
   "cell_type": "code",
   "execution_count": null,
   "id": "f05c02d3",
   "metadata": {},
   "outputs": [],
   "source": [
    "a = int(input(\"Please enter the number:\"))\n",
    "b = int(input(\"Please enter the number:\"))\n",
    "c = int(input(\"Please enter the number:\"))\n",
    "\n",
    "if (a>=b and a>=c):\n",
    "    print(\"First number is largest\", a)\n",
    "elif(b>c):\n",
    "    print(\"second number is largest\", b)\n",
    "else:\n",
    "    print(\"The third number is the largest\", c)"
   ]
  }
 ],
 "metadata": {
  "kernelspec": {
   "display_name": "Python 3 (ipykernel)",
   "language": "python",
   "name": "python3"
  },
  "language_info": {
   "codemirror_mode": {
    "name": "ipython",
    "version": 3
   },
   "file_extension": ".py",
   "mimetype": "text/x-python",
   "name": "python",
   "nbconvert_exporter": "python",
   "pygments_lexer": "ipython3",
   "version": "3.10.12"
  }
 },
 "nbformat": 4,
 "nbformat_minor": 5
}
